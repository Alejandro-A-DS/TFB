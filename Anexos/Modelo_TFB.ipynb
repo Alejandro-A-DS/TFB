{
  "cells": [
    {
      "cell_type": "markdown",
      "metadata": {
        "id": "mKaE11Khs0TO"
      },
      "source": [
        "## Desarrollo de Inteligencia Artifical Generativa con LLM\n",
        "---\n",
        "Dado que el equipo disponible no cuenta con los requerimientos mínimos para ejecutar el modelo deseado de forma local, se recurre a Colab para mirar la implementación del código que extrae la información del texto extraído de documentos `.docx` o `.pdf`.\n"
      ]
    },
    {
      "cell_type": "code",
      "source": [
        "# fichero modelo.py\n",
        "\n",
        "from transformers import AutoModelForCausalLM, AutoTokenizer, TextStreamer\n",
        "from transformers.generation.utils import GenerateDecoderOnlyOutput, GenerateBeamDecoderOnlyOutput\n",
        "import torch\n",
        "\n",
        "\n",
        "def modelo_LLM_inicializacion(device: str = \"cpu\"):\n",
        "\n",
        "    \"\"\"\n",
        "    modelo_LLM_inicializacion inicializa el modelo Qwen 1.5.\n",
        "    parámetro 1: cpu o cuda dependiendo del dispositivo de ejecución\n",
        "    devuelve: modelo y tokenizador\n",
        "    \"\"\"\n",
        "\n",
        "\n",
        "    SMALL_CHAT_MODEL_CON_CASTELLANO =  \"Qwen/Qwen1.5-1.8B-Chat\"\n",
        "    DEVICE = device # DEVICE = \"cuda:0\" para ejecución con GPU, DEVICE = \"cpu\" para ejecución en cpu, el cero de cuda:0 es para especficar la tarjeta gráfica a utilizar, el 0 inica que es la principal\n",
        "\n",
        "    model = AutoModelForCausalLM.from_pretrained(SMALL_CHAT_MODEL_CON_CASTELLANO).to(DEVICE)\n",
        "    tokenizer = AutoTokenizer.from_pretrained(SMALL_CHAT_MODEL_CON_CASTELLANO)\n",
        "\n",
        "    return model, tokenizer\n",
        "\n",
        "\n",
        "def crear_prompt_chat_model(\n",
        "        mensaje_usuario: str,\n",
        "        tokenizer: AutoTokenizer,\n",
        "        mensaje_sistema: str = \"You are an unhelpful assistant.\"\n",
        ") -> str:\n",
        "\n",
        "    \"\"\"\n",
        "    crear_prompt_chat_model crea la estructura de prompt específica del prompt para que el modelo Qwen 1.5 ejecute las instrucciones deseadas\n",
        "    parámetro 1: Mensaje de usuario que es el texto sobre el cual se ejecutarán las instrucciones.\n",
        "    parámetro 2: Tokenizador seleccionado.\n",
        "    parámetro 3: Instrucciones para el modelo.\n",
        "    devuelve: Estructura del prompt necesaria para que el modelo se ejecute correctamente.\n",
        "    \"\"\"\n",
        "\n",
        "\n",
        "    messages = [{\"role\": \"system\", \"content\": mensaje_sistema}]\n",
        "\n",
        "    messages.append({\"role\": \"user\", \"content\": mensaje_usuario})\n",
        "    prompt = tokenizer.apply_chat_template(\n",
        "        messages,\n",
        "        tokenize=False,\n",
        "        add_generation_prompt=True\n",
        "    )\n",
        "\n",
        "    return prompt\n",
        "\n",
        "\n",
        "def responde_al_mensaje(\n",
        "        model: AutoModelForCausalLM,\n",
        "        tokenizer: AutoTokenizer,\n",
        "        prompt: str,\n",
        "        DEVICE: str,\n",
        "        streamer: TextStreamer = None,\n",
        "        gen_kwargs: dict = None,\n",
        "        return_scores: bool = False,\n",
        "    ) -> list[str] | tuple[list[str], GenerateDecoderOnlyOutput]:\n",
        "\n",
        "    \"\"\"\n",
        "    responde_al_mensaje realiza la ejecución del modelo con los parámetros especificados.\n",
        "    parámetro 1: Modelo.\n",
        "    parámetro 2: Tokenizer,\n",
        "    parámetro 3: Prompt,\n",
        "    parámetro 4: Dispocitivo (DEVICE),\n",
        "    parámetro 5: Streamer,\n",
        "    parámetro 6: Parámetros del modelo,\n",
        "    parámetro 7: Devolver puntuaciones,\n",
        "    devuelve: Salida del modelo.\n",
        "    \"\"\"\n",
        "\n",
        "    gen_kwargs = gen_kwargs or {}\n",
        "    if return_scores:\n",
        "        gen_kwargs[\"return_dict_in_generate\"] = True\n",
        "        gen_kwargs[\"output_scores\"] = True\n",
        "\n",
        "    input_ids = tokenizer(prompt, return_tensors=\"pt\").input_ids.to(DEVICE)\n",
        "\n",
        "    model_output = model.generate(\n",
        "        input_ids,\n",
        "        **gen_kwargs,\n",
        "        streamer=streamer,\n",
        "    )\n",
        "    if isinstance(model_output, GenerateDecoderOnlyOutput):\n",
        "        response_tokens = model_output.sequences\n",
        "    elif isinstance(model_output, torch.Tensor):\n",
        "        response_tokens = model_output\n",
        "    elif isinstance(model_output, GenerateBeamDecoderOnlyOutput):\n",
        "        response_tokens = model_output.sequences\n",
        "    else:\n",
        "        raise ValueError(f\"El modelo ha devuelto un tipo inesperado: {type(model_output)}\")\n",
        "\n",
        "\n",
        "    responses_txt = tokenizer.batch_decode(response_tokens[:,len(input_ids[0]):], skip_special_tokens=True)\n",
        "\n",
        "    return responses_txt, model_output\n",
        "\n",
        "\n",
        "def streamer_gen_kwargs(tokenizer, temperatura, maximo_tokens):\n",
        "    \"\"\"\n",
        "    streamer_gen_kwargs crea los parámetros adiconales para el modelo.\n",
        "    parámetro 1: Tokenizador,\n",
        "    parámetro 2: Temperatura,\n",
        "    parámetro 3: Máximo de Tokens de salida\n",
        "    devuelve: streamer y gen_kwargs\n",
        "    \"\"\"\n",
        "\n",
        "    streamer = TextStreamer(tokenizer, skip_prompt=True, skip_special_tokens=True)\n",
        "    gen_kwargs = {\"temperature\": temperatura, \"top_k\": 1, \"max_new_tokens\": maximo_tokens}\n",
        "\n",
        "    return streamer, gen_kwargs"
      ],
      "metadata": {
        "id": "6eUuNN2U0MUp"
      },
      "execution_count": null,
      "outputs": []
    },
    {
      "cell_type": "code",
      "source": [
        "# prompts\n",
        "\n",
        "from datetime import date\n",
        "\n",
        "hoy = date.today()\n",
        "\n",
        "\n",
        "def instruccion_1():\n",
        "\n",
        "    instrucciones_1 = '''\n",
        "    Eres una inteligencia artificial especializada en revisar hojas de vida de candidatos para una vacante en una empresa.\n",
        "\n",
        "    Recibes una hoja de vida y tu tarea es extraer el nombre del candidato, el teléfono del candidato y el correo electrónico del candidato con el siguiente formato JSON:\n",
        "\n",
        "    {{\n",
        "      \"Nombre\": <Nombre del candidato>,\n",
        "      \"Telefono\": <Los 10 dígitos del teléfono del candidato sin espacios>,\n",
        "      \"Correo\": <Correo Electrócino del candidato>\n",
        "    }}\n",
        "    '''\n",
        "    return instrucciones_1\n",
        "\n",
        "\n",
        "def instruccion_2():\n",
        "\n",
        "    instruccion_2 = '''\n",
        "    Identify all the dates associated to job positions in the CV, your answer should be as short as possible.\n",
        "    '''\n",
        "\n",
        "    return instruccion_2\n",
        "\n",
        "\n",
        "def instruccion_3():\n",
        "\n",
        "    instruccion_3 = f'''\n",
        "    Identifica la cantidad de parejas de años presentes en el texto recibido. Extrae únicamente los años encontrados en el texto con el siguiente formato:\n",
        "\n",
        "    {{\n",
        "      \"Años\": <Parejas de años encontradas>,\n",
        "      \"Texto\": <Textos encontrados sin los años>.\n",
        "    }}\n",
        "    '''\n",
        "\n",
        "    return instruccion_3"
      ],
      "metadata": {
        "id": "pXWtSWRl0PhA"
      },
      "execution_count": null,
      "outputs": []
    },
    {
      "cell_type": "code",
      "source": [
        "texto_CV = '''\n",
        "Sergio Alejandro Alvarado Parada\n",
        "Celular: +57 3017394784\n",
        "Correo electrónico: sergio.ing92@gmail.com\n",
        "LinkedIn: Sergio Alejandro Alvarado Parada\n",
        "DataScientist | DataAnalyst | MachineLearning | Python | SQL | R\n",
        "Perfil Profesional\n",
        "Ingeniero bilingüe y Magíster en Big Data y Data Science, con experiencia en el área de análisis de\n",
        "datos, aplicando técnicas de minería de datos, análisis estadístico, implementación de modelos de\n",
        "machine learning, visualización de datos. Habilidades en la manipulación y limpieza de datos,\n",
        "creación de algoritmos personalizados, desarrollo de modelos predictivos y de segmentación, así\n",
        "como en la identificación de patrones y tendencias a través de técnicas estadísticas. Capacidad\n",
        "para aplicar métodos analíticos y herramientas de programación con el fin de extraer información y\n",
        "generar conocimientos accionables para la toma de decisiones estratégicas. Con dominio en el uso\n",
        "de herramientas como Python, R, SQL, Pyspark y MongoDB para el análisis de datos y la generación\n",
        "de dashboard. Con interés en el área de data science para impulsar la toma de decisiones\n",
        "informadas y mejorar la eficiencia operativa y el rendimiento empresarial.\n",
        "Habilidades\n",
        "● Estadística.\n",
        "● Programación.\n",
        "● Python para ciencia de datos (Pandas, Numpy, Matplotlib, scikit-learn, Beautiful Soup)\n",
        "● R (ggplot, dplyr, earth, spdep).\n",
        "● SQL.\n",
        "● Pyspark.\n",
        "● MongoDB.\n",
        "Experiencia\n",
        "Data Scientist & Data Analyst | Freelance Febrero 2022 – Actualidad\n",
        "● Realizar la extracción, transformación y load (ETL) de información de un conjunto de datos para\n",
        "su análisis, visualización e implementación en modelos de machine learning.\n",
        "● Diseñar árboles de decisión, modelos de regresión logística y otros algoritmos para gestionar\n",
        "procesos de regresión y clasificación por medio de algoritmos de machine learning enfocados\n",
        "en entrenamiento supervisado.\n",
        "● Realizar la migración de bases de datos relacionales de un servidor local a un servidor en la\n",
        "nube por medio de Amazon Web Services (AWS) para mejorar la eficiencia en el\n",
        "almacenamiento de datos.\n",
        "● Extraer información de páginas web mediante Web Scraping para automatizar la recolección\n",
        "de datos agilizando el proceso de obtención de información relevante.\n",
        "Logros\n",
        "● Conseguí optimizar en un 99.3% el tiempo necesario para la complementación de información\n",
        "de 1.350 archivos por medio de la creación de un algoritmo en Python que permitió\n",
        "automatizar el proceso.\n",
        "● Logré automatizar 100% el proceso de recolección de información a través de la creación de\n",
        "un script en Python para extraer información de páginas web que no pueden descargarse\n",
        "directamente como ficheros por medio de Web Scraping.\n",
        "● Identifiqué 3 grupos de consumidores con patrones de compra similares analizando el\n",
        "comportamiento y características de usuarios de una tienda retail a partir del algoritmo de\n",
        "Machine Learning KNN (K-Nearest Neighbor).\n",
        "Account Change Specialist| Amazon | Junio 2022 – Actualidad\n",
        "● Realizar procesos de validación de datos para identificar fraudes y asegurar la integridad y\n",
        "seguridad de las cuentas de Amazon de clientes en Estados Unidos y Canadá.\n",
        "● Asegurar la confidencialidad de la información de los usuarios.\n",
        "Logros\n",
        "● Garanticé la integridad y seguridad del 99,9% de las cuentas bajo mi responsabilidad evitando\n",
        "el robo de información personal y bancaria.\n",
        "● Evité el uso indebido por parte de estafadores por sumas superiores a USD$50,000.\n",
        "Ingeniero de Diseño | Ingetec S.A. Febrero 2018 – Diciembre 2021\n",
        "● Analizar datos a través de herramientas estadísticas para la identificación de la viabilidad de\n",
        "proyectos.\n",
        "● Crear algoritmos de optimización de procesos con el uso de lenguajes de programación R y\n",
        "Python para la reducción de tiempos de procesamiento y eliminación de errores humanos.\n",
        "● Crear visualizaciones de la información analizada con R, Python y Excel para resumir y permitir\n",
        "entender más fácilmente la cantidad de datos analizados.\n",
        "● Programación de test estadísticos en Excel, R y Python para pruebas paramétricas y no\n",
        "paramétricas con el fin de identificar la distribución de los datos.\n",
        "Logros\n",
        "● Aumenté la productividad de la empresa en los análisis de datos en un 100% gracias a la\n",
        "implementación de programas de automatización y creación de Dashboards a partir de\n",
        "Python y librerías como pandas y xlsxwriter.\n",
        "● Reduje a 0 la cantidad de errores presentados en etapas de manipulación y transformación de\n",
        "datos implementando procesos de automatización y visualización en Python.\n",
        "● Reduje el tiempo necesario en la organización y manipulación de datos en un 95%, a través de\n",
        "la programación de algoritmos para manipular y procesar datos en etapas tempranas del\n",
        "proyecto.\n",
        "Educación\n",
        "Máster en Big Data y Data Science Noviembre 2022 – Noviembre 2023\n",
        "Universitat de Barcelona\n",
        "Ingeniería Civil Enero 2010 – Septiembre 2015\n",
        "Escuela Colombiana de Ingeniería Julio Garavito\n",
        "Educación complementaria\n",
        "Diplomado Inteligencia Artificial para las Ciencias y las Ingenierías Enero 2022 – Mayo 2022\n",
        "Universidad de Antioquia\n",
        "Diplomado Machine Learning and Data Science Febrero 2021 – Junio 2021\n",
        "Universidad Nacional de Colombia Sede Bogotá\n",
        "Curso Big Data Mayo 2021 – Junio 2021\n",
        "Universidad Nacional de Colombia Sede Bogotá\n",
        "Curso Introducción al Aprendizaje Computacional con Python Abril 2021 – Mayo 2021\n",
        "Universidad Nacional de Colombia Sede Bogotá\n",
        "Curso Análisis y Visualización de Datos con Python Febrero 2021 – Marzo 2021\n",
        "Universidad Nacional de Colombia Sede Bogotá\n",
        "Curso de Business Intelligence con Python Septiembre 2019 – Octubre 2019\n",
        "Pontificia Universidad Javeriana\n",
        "Idiomas\n",
        "Inglés B2\n",
        "'''"
      ],
      "metadata": {
        "id": "ezWGsmpk0snL"
      },
      "execution_count": null,
      "outputs": []
    },
    {
      "cell_type": "code",
      "source": [
        "# Fichero main\n",
        "\n",
        "model, tokenizer = modelo_LLM_inicializacion()"
      ],
      "metadata": {
        "colab": {
          "base_uri": "https://localhost:8080/"
        },
        "id": "PY_WQcCE0YQi",
        "outputId": "b1b09653-cb71-40d2-9b95-813789b094f9"
      },
      "execution_count": null,
      "outputs": [
        {
          "output_type": "stream",
          "name": "stderr",
          "text": [
            "/usr/local/lib/python3.10/dist-packages/huggingface_hub/utils/_token.py:88: UserWarning: \n",
            "The secret `HF_TOKEN` does not exist in your Colab secrets.\n",
            "To authenticate with the Hugging Face Hub, create a token in your settings tab (https://huggingface.co/settings/tokens), set it as secret in your Google Colab and restart your session.\n",
            "You will be able to reuse this secret in all of your notebooks.\n",
            "Please note that authentication is recommended but still optional to access public models or datasets.\n",
            "  warnings.warn(\n",
            "Special tokens have been added in the vocabulary, make sure the associated word embeddings are fine-tuned or trained.\n"
          ]
        }
      ]
    },
    {
      "cell_type": "code",
      "source": [
        "# Fichero posprocesado.py\n",
        "\n",
        "import json\n",
        "import pandas as pd\n",
        "\n",
        "\n",
        "def posprocesado(respuesta):\n",
        "\n",
        "    \"\"\"\n",
        "    posprocesado convierte la salida del modelo (str) en un diccionario o lista según sea el caso.\n",
        "    parámetro 1: Salida en formato str del modelo.\n",
        "    devuelve: Diccionario o Lista de Python\n",
        "    \"\"\"\n",
        "\n",
        "    return json.loads(respuesta)\n",
        "\n",
        "\n",
        "def exportar_excel(informacion_candidato, experiencia_profesional):\n",
        "\n",
        "    \"\"\"\n",
        "    exportar_excel crea un archivo de excel con la información organizada extraida por el modelo.\n",
        "    parámetro 1: Diccionario con la información básica de contacto del candidato.\n",
        "    parámetro 2: Diccionario o lista de diccionarios con la experiencia profesional del candidado.\n",
        "    devuelve: Una confirmación de la creación del archivo de excel o una mensaje de error.\n",
        "    \"\"\"\n",
        "\n",
        "    experiencia = experiencia_profesional[\"Años\"]\n",
        "    informacion = informacion_candidato\n",
        "\n",
        "    for diccionario in experiencia:\n",
        "        anios = abs(int(diccionario[\"Años\"].split(\"-\")[0]) - int(diccionario[\"Años\"].split(\"-\")[1])) + 1\n",
        "        diccionario[\"Años\"] = anios\n",
        "\n",
        "    columnas = [\"Nombre\", \"Teléfono\", \"Correo\", \"Lista Experiencia\", \"Año Mayor Experiencia\", \"Puesto Mayor Experiencia\"]\n",
        "    datos = list(informacion.values())\n",
        "    datos.append(experiencia)\n",
        "\n",
        "    anios_mayor_exp = 0\n",
        "    puesto_mayor_exp = \"\"\n",
        "\n",
        "    for diccionario in experiencia:\n",
        "        if diccionario[\"Años\"] >= anios_mayor_exp:\n",
        "            anios_mayor_exp = diccionario[\"Años\"]\n",
        "            puesto_mayor_exp = diccionario[\"Texto\"]\n",
        "\n",
        "    datos.append(anios_mayor_exp)\n",
        "    datos.append(puesto_mayor_exp)\n",
        "\n",
        "    df = pd.DataFrame(columns=columnas)\n",
        "    df.loc[len(df)] = datos\n",
        "\n",
        "    return df"
      ],
      "metadata": {
        "id": "NifmhOTaZP5R"
      },
      "execution_count": null,
      "outputs": []
    },
    {
      "cell_type": "code",
      "source": [
        "tarea_1 = instruccion_1()\n",
        "\n",
        "prompt1 = crear_prompt_chat_model(texto_CV, tokenizer, tarea_1)\n",
        "streamer1, gen_kwargs1 = streamer_gen_kwargs(tokenizer, 0.01, 55)\n",
        "\n",
        "response1, model_output1 = responde_al_mensaje(model, tokenizer, prompt1, DEVICE=\"cpu\", streamer=streamer1, gen_kwargs=gen_kwargs1)"
      ],
      "metadata": {
        "colab": {
          "base_uri": "https://localhost:8080/"
        },
        "id": "5AYqVx9w1NkI",
        "outputId": "b6861188-b3d4-48e2-b99a-07a4cdb59219"
      },
      "execution_count": null,
      "outputs": [
        {
          "output_type": "stream",
          "name": "stdout",
          "text": [
            "{\n",
            "  \"Nombre\": \"Sergio Alejandro Alvarado Parada\",\n",
            "  \"Telefono\": \"+57 3017394784\",\n",
            "  \"Correo electrónico\": \"sergio.ing92@gmail.com\"\n",
            "}\n"
          ]
        }
      ]
    },
    {
      "cell_type": "code",
      "source": [
        "tarea_2 = instruccion_2()\n",
        "\n",
        "prompt2 = crear_prompt_chat_model(texto_CV, tokenizer, tarea_2)\n",
        "streamer2, gen_kwargs2 = streamer_gen_kwargs(tokenizer, 0.01, 100)\n",
        "\n",
        "response2, model_output2 = responde_al_mensaje(model, tokenizer, prompt2, DEVICE=\"cpu\", streamer=streamer2, gen_kwargs=gen_kwargs2)"
      ],
      "metadata": {
        "colab": {
          "base_uri": "https://localhost:8080/"
        },
        "id": "OkM2GIaD6rXe",
        "outputId": "23c7b2ec-5c31-4304-fe08-dbbf4496741a"
      },
      "execution_count": null,
      "outputs": [
        {
          "output_type": "stream",
          "name": "stdout",
          "text": [
            "2022 - Present\n",
            "Big Data and Data Science Master's from Universitat de Barcelona\n",
            "2010 - 2015\n",
            "Colombian Engineer\n",
            "2022 - Present\n",
            "Machine Learning and Data Science Diploma from Universidad Nacional de Colombia\n",
            "2021 - 2021\n",
            "Machine Learning and Data Science Degree from Universidad Nacional de Colombia\n",
            "2021 - 2021\n",
            "Introduction to Computer Science with Python Course from Pontificia\n"
          ]
        }
      ]
    },
    {
      "cell_type": "code",
      "source": [
        "experiencia = response2[0].replace(\"Present\", str(date.today().year))\n",
        "print(experiencia)"
      ],
      "metadata": {
        "colab": {
          "base_uri": "https://localhost:8080/"
        },
        "id": "dK7Rj2X88Zup",
        "outputId": "faaf1ce4-62f2-40e6-c272-27d4b59aa28e"
      },
      "execution_count": null,
      "outputs": [
        {
          "output_type": "stream",
          "name": "stdout",
          "text": [
            "2022 - 2024\n",
            "Big Data and Data Science Master's from Universitat de Barcelona\n",
            "2010 - 2015\n",
            "Colombian Engineer\n",
            "2022 - 2024\n",
            "Machine Learning and Data Science Diploma from Universidad Nacional de Colombia\n",
            "2021 - 2021\n",
            "Machine Learning and Data Science Degree from Universidad Nacional de Colombia\n",
            "2021 - 2021\n",
            "Introduction to Computer Science with Python Course from Pontificia\n"
          ]
        }
      ]
    },
    {
      "cell_type": "code",
      "source": [
        "tarea_3 = instruccion_3()\n",
        "\n",
        "prompt3 = crear_prompt_chat_model(experiencia, tokenizer, tarea_3)\n",
        "streamer3, gen_kwargs3 = streamer_gen_kwargs(tokenizer, 0.01, 500)\n",
        "\n",
        "response3, model_output3 = responde_al_mensaje(model, tokenizer, prompt3, DEVICE=\"cpu\", streamer=streamer3, gen_kwargs=gen_kwargs3)"
      ],
      "metadata": {
        "colab": {
          "base_uri": "https://localhost:8080/"
        },
        "id": "lYP9LmGE8dU5",
        "outputId": "19bb1525-abeb-4623-954b-7baf4ebc602e"
      },
      "execution_count": null,
      "outputs": [
        {
          "output_type": "stream",
          "name": "stdout",
          "text": [
            "{\n",
            "  \"Años\": [\n",
            "    {\n",
            "      \"Años\": \"2022 - 2024\",\n",
            "      \"Texto\": \"Big Data and Data Science Master's from Universitat de Barcelona\"\n",
            "    },\n",
            "    {\n",
            "      \"Años\": \"2010 - 2015\",\n",
            "      \"Texto\": \"Colombian Engineer\"\n",
            "    },\n",
            "    {\n",
            "      \"Años\": \"2022 - 2024\",\n",
            "      \"Texto\": \"Machine Learning and Data Science Diploma from Universidad Nacional de Colombia\"\n",
            "    },\n",
            "    {\n",
            "      \"Años\": \"2021 - 2021\",\n",
            "      \"Texto\": \"Machine Learning and Data Science Degree from Universidad Nacional de Colombia\"\n",
            "    }\n",
            "  ],\n",
            "  \"Texto\": \"\"\n",
            "}\n"
          ]
        }
      ]
    },
    {
      "cell_type": "code",
      "source": [
        "print(response3[0])"
      ],
      "metadata": {
        "colab": {
          "base_uri": "https://localhost:8080/"
        },
        "id": "jxwUx2sBZxSw",
        "outputId": "d36991fc-cda4-4048-9829-f979c8387dc8"
      },
      "execution_count": null,
      "outputs": [
        {
          "output_type": "stream",
          "name": "stdout",
          "text": [
            "{\n",
            "  \"Años\": [\n",
            "    {\n",
            "      \"Años\": \"2022 - 2024\",\n",
            "      \"Texto\": \"Big Data and Data Science Master's from Universitat de Barcelona\"\n",
            "    },\n",
            "    {\n",
            "      \"Años\": \"2010 - 2015\",\n",
            "      \"Texto\": \"Colombian Engineer\"\n",
            "    },\n",
            "    {\n",
            "      \"Años\": \"2022 - 2024\",\n",
            "      \"Texto\": \"Machine Learning and Data Science Diploma from Universidad Nacional de Colombia\"\n",
            "    },\n",
            "    {\n",
            "      \"Años\": \"2021 - 2021\",\n",
            "      \"Texto\": \"Machine Learning and Data Science Degree from Universidad Nacional de Colombia\"\n",
            "    }\n",
            "  ],\n",
            "  \"Texto\": \"\"\n",
            "}\n"
          ]
        }
      ]
    },
    {
      "cell_type": "code",
      "source": [
        "info_candidato = posprocesado(response1[0])\n",
        "info_candidato"
      ],
      "metadata": {
        "colab": {
          "base_uri": "https://localhost:8080/"
        },
        "id": "BvfiYZx8ZmPM",
        "outputId": "6cf8d7f2-7fe1-4381-fca2-d7b7bc499658"
      },
      "execution_count": null,
      "outputs": [
        {
          "output_type": "execute_result",
          "data": {
            "text/plain": [
              "{'Nombre': 'Sergio Alejandro Alvarado Parada',\n",
              " 'Telefono': '+57 3017394784',\n",
              " 'Correo electrónico': 'sergio.ing92@gmail.com'}"
            ]
          },
          "metadata": {},
          "execution_count": 25
        }
      ]
    },
    {
      "cell_type": "code",
      "source": [
        "experiencia_profesional = posprocesado(response3[0])\n",
        "experiencia_profesional"
      ],
      "metadata": {
        "colab": {
          "base_uri": "https://localhost:8080/"
        },
        "id": "HaIGhe6HZ-i6",
        "outputId": "e808ba34-e097-4145-dd67-9556e4fb79ed"
      },
      "execution_count": null,
      "outputs": [
        {
          "output_type": "execute_result",
          "data": {
            "text/plain": [
              "{'Años': [{'Años': '2022 - 2024',\n",
              "   'Texto': \"Big Data and Data Science Master's from Universitat de Barcelona\"},\n",
              "  {'Años': '2010 - 2015', 'Texto': 'Colombian Engineer'},\n",
              "  {'Años': '2022 - 2024',\n",
              "   'Texto': 'Machine Learning and Data Science Diploma from Universidad Nacional de Colombia'},\n",
              "  {'Años': '2021 - 2021',\n",
              "   'Texto': 'Machine Learning and Data Science Degree from Universidad Nacional de Colombia'}],\n",
              " 'Texto': ''}"
            ]
          },
          "metadata": {},
          "execution_count": 79
        }
      ]
    },
    {
      "cell_type": "code",
      "source": [
        "dataframe = exportar_excel(info_candidato, experiencia_profesional)"
      ],
      "metadata": {
        "id": "30ibsnGfxDYI"
      },
      "execution_count": null,
      "outputs": []
    },
    {
      "cell_type": "code",
      "source": [
        "dataframe"
      ],
      "metadata": {
        "colab": {
          "base_uri": "https://localhost:8080/",
          "height": 115
        },
        "id": "gBc7Ga-fxNfd",
        "outputId": "b1c36e64-a5cf-4999-8db9-391bb034a37f"
      },
      "execution_count": null,
      "outputs": [
        {
          "output_type": "execute_result",
          "data": {
            "text/plain": [
              "                             Nombre        Teléfono                  Correo  \\\n",
              "0  Sergio Alejandro Alvarado Parada  +57 3017394784  sergio.ing92@gmail.com   \n",
              "\n",
              "                                   Lista Experiencia  Año Mayor Experiencia  \\\n",
              "0  [{'Años': 3, 'Texto': 'Big Data and Data Scien...                      6   \n",
              "\n",
              "  Puesto Mayor Experiencia  \n",
              "0       Colombian Engineer  "
            ],
            "text/html": [
              "\n",
              "  <div id=\"df-721feea7-ac43-4264-a58b-e77a5369ce26\" class=\"colab-df-container\">\n",
              "    <div>\n",
              "<style scoped>\n",
              "    .dataframe tbody tr th:only-of-type {\n",
              "        vertical-align: middle;\n",
              "    }\n",
              "\n",
              "    .dataframe tbody tr th {\n",
              "        vertical-align: top;\n",
              "    }\n",
              "\n",
              "    .dataframe thead th {\n",
              "        text-align: right;\n",
              "    }\n",
              "</style>\n",
              "<table border=\"1\" class=\"dataframe\">\n",
              "  <thead>\n",
              "    <tr style=\"text-align: right;\">\n",
              "      <th></th>\n",
              "      <th>Nombre</th>\n",
              "      <th>Teléfono</th>\n",
              "      <th>Correo</th>\n",
              "      <th>Lista Experiencia</th>\n",
              "      <th>Año Mayor Experiencia</th>\n",
              "      <th>Puesto Mayor Experiencia</th>\n",
              "    </tr>\n",
              "  </thead>\n",
              "  <tbody>\n",
              "    <tr>\n",
              "      <th>0</th>\n",
              "      <td>Sergio Alejandro Alvarado Parada</td>\n",
              "      <td>+57 3017394784</td>\n",
              "      <td>sergio.ing92@gmail.com</td>\n",
              "      <td>[{'Años': 3, 'Texto': 'Big Data and Data Scien...</td>\n",
              "      <td>6</td>\n",
              "      <td>Colombian Engineer</td>\n",
              "    </tr>\n",
              "  </tbody>\n",
              "</table>\n",
              "</div>\n",
              "    <div class=\"colab-df-buttons\">\n",
              "\n",
              "  <div class=\"colab-df-container\">\n",
              "    <button class=\"colab-df-convert\" onclick=\"convertToInteractive('df-721feea7-ac43-4264-a58b-e77a5369ce26')\"\n",
              "            title=\"Convert this dataframe to an interactive table.\"\n",
              "            style=\"display:none;\">\n",
              "\n",
              "  <svg xmlns=\"http://www.w3.org/2000/svg\" height=\"24px\" viewBox=\"0 -960 960 960\">\n",
              "    <path d=\"M120-120v-720h720v720H120Zm60-500h600v-160H180v160Zm220 220h160v-160H400v160Zm0 220h160v-160H400v160ZM180-400h160v-160H180v160Zm440 0h160v-160H620v160ZM180-180h160v-160H180v160Zm440 0h160v-160H620v160Z\"/>\n",
              "  </svg>\n",
              "    </button>\n",
              "\n",
              "  <style>\n",
              "    .colab-df-container {\n",
              "      display:flex;\n",
              "      gap: 12px;\n",
              "    }\n",
              "\n",
              "    .colab-df-convert {\n",
              "      background-color: #E8F0FE;\n",
              "      border: none;\n",
              "      border-radius: 50%;\n",
              "      cursor: pointer;\n",
              "      display: none;\n",
              "      fill: #1967D2;\n",
              "      height: 32px;\n",
              "      padding: 0 0 0 0;\n",
              "      width: 32px;\n",
              "    }\n",
              "\n",
              "    .colab-df-convert:hover {\n",
              "      background-color: #E2EBFA;\n",
              "      box-shadow: 0px 1px 2px rgba(60, 64, 67, 0.3), 0px 1px 3px 1px rgba(60, 64, 67, 0.15);\n",
              "      fill: #174EA6;\n",
              "    }\n",
              "\n",
              "    .colab-df-buttons div {\n",
              "      margin-bottom: 4px;\n",
              "    }\n",
              "\n",
              "    [theme=dark] .colab-df-convert {\n",
              "      background-color: #3B4455;\n",
              "      fill: #D2E3FC;\n",
              "    }\n",
              "\n",
              "    [theme=dark] .colab-df-convert:hover {\n",
              "      background-color: #434B5C;\n",
              "      box-shadow: 0px 1px 3px 1px rgba(0, 0, 0, 0.15);\n",
              "      filter: drop-shadow(0px 1px 2px rgba(0, 0, 0, 0.3));\n",
              "      fill: #FFFFFF;\n",
              "    }\n",
              "  </style>\n",
              "\n",
              "    <script>\n",
              "      const buttonEl =\n",
              "        document.querySelector('#df-721feea7-ac43-4264-a58b-e77a5369ce26 button.colab-df-convert');\n",
              "      buttonEl.style.display =\n",
              "        google.colab.kernel.accessAllowed ? 'block' : 'none';\n",
              "\n",
              "      async function convertToInteractive(key) {\n",
              "        const element = document.querySelector('#df-721feea7-ac43-4264-a58b-e77a5369ce26');\n",
              "        const dataTable =\n",
              "          await google.colab.kernel.invokeFunction('convertToInteractive',\n",
              "                                                    [key], {});\n",
              "        if (!dataTable) return;\n",
              "\n",
              "        const docLinkHtml = 'Like what you see? Visit the ' +\n",
              "          '<a target=\"_blank\" href=https://colab.research.google.com/notebooks/data_table.ipynb>data table notebook</a>'\n",
              "          + ' to learn more about interactive tables.';\n",
              "        element.innerHTML = '';\n",
              "        dataTable['output_type'] = 'display_data';\n",
              "        await google.colab.output.renderOutput(dataTable, element);\n",
              "        const docLink = document.createElement('div');\n",
              "        docLink.innerHTML = docLinkHtml;\n",
              "        element.appendChild(docLink);\n",
              "      }\n",
              "    </script>\n",
              "  </div>\n",
              "\n",
              "\n",
              "  <div id=\"id_41c21d52-0929-412d-8118-2ac1a351680b\">\n",
              "    <style>\n",
              "      .colab-df-generate {\n",
              "        background-color: #E8F0FE;\n",
              "        border: none;\n",
              "        border-radius: 50%;\n",
              "        cursor: pointer;\n",
              "        display: none;\n",
              "        fill: #1967D2;\n",
              "        height: 32px;\n",
              "        padding: 0 0 0 0;\n",
              "        width: 32px;\n",
              "      }\n",
              "\n",
              "      .colab-df-generate:hover {\n",
              "        background-color: #E2EBFA;\n",
              "        box-shadow: 0px 1px 2px rgba(60, 64, 67, 0.3), 0px 1px 3px 1px rgba(60, 64, 67, 0.15);\n",
              "        fill: #174EA6;\n",
              "      }\n",
              "\n",
              "      [theme=dark] .colab-df-generate {\n",
              "        background-color: #3B4455;\n",
              "        fill: #D2E3FC;\n",
              "      }\n",
              "\n",
              "      [theme=dark] .colab-df-generate:hover {\n",
              "        background-color: #434B5C;\n",
              "        box-shadow: 0px 1px 3px 1px rgba(0, 0, 0, 0.15);\n",
              "        filter: drop-shadow(0px 1px 2px rgba(0, 0, 0, 0.3));\n",
              "        fill: #FFFFFF;\n",
              "      }\n",
              "    </style>\n",
              "    <button class=\"colab-df-generate\" onclick=\"generateWithVariable('x')\"\n",
              "            title=\"Generate code using this dataframe.\"\n",
              "            style=\"display:none;\">\n",
              "\n",
              "  <svg xmlns=\"http://www.w3.org/2000/svg\" height=\"24px\"viewBox=\"0 0 24 24\"\n",
              "       width=\"24px\">\n",
              "    <path d=\"M7,19H8.4L18.45,9,17,7.55,7,17.6ZM5,21V16.75L18.45,3.32a2,2,0,0,1,2.83,0l1.4,1.43a1.91,1.91,0,0,1,.58,1.4,1.91,1.91,0,0,1-.58,1.4L9.25,21ZM18.45,9,17,7.55Zm-12,3A5.31,5.31,0,0,0,4.9,8.1,5.31,5.31,0,0,0,1,6.5,5.31,5.31,0,0,0,4.9,4.9,5.31,5.31,0,0,0,6.5,1,5.31,5.31,0,0,0,8.1,4.9,5.31,5.31,0,0,0,12,6.5,5.46,5.46,0,0,0,6.5,12Z\"/>\n",
              "  </svg>\n",
              "    </button>\n",
              "    <script>\n",
              "      (() => {\n",
              "      const buttonEl =\n",
              "        document.querySelector('#id_41c21d52-0929-412d-8118-2ac1a351680b button.colab-df-generate');\n",
              "      buttonEl.style.display =\n",
              "        google.colab.kernel.accessAllowed ? 'block' : 'none';\n",
              "\n",
              "      buttonEl.onclick = () => {\n",
              "        google.colab.notebook.generateWithVariable('x');\n",
              "      }\n",
              "      })();\n",
              "    </script>\n",
              "  </div>\n",
              "\n",
              "    </div>\n",
              "  </div>\n"
            ],
            "application/vnd.google.colaboratory.intrinsic+json": {
              "type": "dataframe",
              "variable_name": "x",
              "summary": "{\n  \"name\": \"x\",\n  \"rows\": 1,\n  \"fields\": [\n    {\n      \"column\": \"Nombre\",\n      \"properties\": {\n        \"dtype\": \"string\",\n        \"num_unique_values\": 1,\n        \"samples\": [\n          \"Sergio Alejandro Alvarado Parada\"\n        ],\n        \"semantic_type\": \"\",\n        \"description\": \"\"\n      }\n    },\n    {\n      \"column\": \"Tel\\u00e9fono\",\n      \"properties\": {\n        \"dtype\": \"string\",\n        \"num_unique_values\": 1,\n        \"samples\": [\n          \"+57 3017394784\"\n        ],\n        \"semantic_type\": \"\",\n        \"description\": \"\"\n      }\n    },\n    {\n      \"column\": \"Correo\",\n      \"properties\": {\n        \"dtype\": \"string\",\n        \"num_unique_values\": 1,\n        \"samples\": [\n          \"sergio.ing92@gmail.com\"\n        ],\n        \"semantic_type\": \"\",\n        \"description\": \"\"\n      }\n    },\n    {\n      \"column\": \"Lista Experiencia\",\n      \"properties\": {\n        \"dtype\": \"object\",\n        \"semantic_type\": \"\",\n        \"description\": \"\"\n      }\n    },\n    {\n      \"column\": \"A\\u00f1o Mayor Experiencia\",\n      \"properties\": {\n        \"dtype\": \"number\",\n        \"std\": null,\n        \"min\": 6,\n        \"max\": 6,\n        \"num_unique_values\": 1,\n        \"samples\": [\n          6\n        ],\n        \"semantic_type\": \"\",\n        \"description\": \"\"\n      }\n    },\n    {\n      \"column\": \"Puesto Mayor Experiencia\",\n      \"properties\": {\n        \"dtype\": \"string\",\n        \"num_unique_values\": 1,\n        \"samples\": [\n          \"Colombian Engineer\"\n        ],\n        \"semantic_type\": \"\",\n        \"description\": \"\"\n      }\n    }\n  ]\n}"
            }
          },
          "metadata": {},
          "execution_count": 81
        }
      ]
    },
    {
      "cell_type": "markdown",
      "source": [
        "---"
      ],
      "metadata": {
        "id": "-oAPEfACZiqP"
      }
    }
  ],
  "metadata": {
    "kernelspec": {
      "display_name": "Python 3",
      "name": "python3"
    },
    "language_info": {
      "codemirror_mode": {
        "name": "ipython",
        "version": 3
      },
      "file_extension": ".py",
      "mimetype": "text/x-python",
      "name": "python",
      "nbconvert_exporter": "python",
      "pygments_lexer": "ipython3",
      "version": "3.10.13"
    },
    "colab": {
      "provenance": [],
      "gpuType": "T4"
    },
    "accelerator": "GPU"
  },
  "nbformat": 4,
  "nbformat_minor": 0
}